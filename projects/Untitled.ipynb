{
 "cells": [
  {
   "cell_type": "code",
   "execution_count": 1,
   "id": "de69674b",
   "metadata": {},
   "outputs": [],
   "source": [
    "import pandas as pd\n",
    "import numpy as np\n",
    "from sklearn.model_selection import train_test_split\n",
    "import tensorflow as tf\n",
    "from tensorflow.keras.layers import Dense, Dropout, Activation, Flatten\n",
    "from tensorflow.keras.optimizers import Adam\n",
    "from sklearn import metrics"
   ]
  },
  {
   "cell_type": "code",
   "execution_count": 2,
   "id": "7d544332",
   "metadata": {},
   "outputs": [
    {
     "name": "stdout",
     "output_type": "stream",
     "text": [
      "(136, 40)\n"
     ]
    },
    {
     "data": {
      "text/plain": [
       "(136,)"
      ]
     },
     "execution_count": 2,
     "metadata": {},
     "output_type": "execute_result"
    }
   ],
   "source": [
    "x = np.loadtxt('x_data.csv', delimiter=',')\n",
    "y = np.loadtxt('y_data.csv', delimiter=',')\n",
    "print(x.shape)\n",
    "y.shape"
   ]
  },
  {
   "cell_type": "code",
   "execution_count": 3,
   "id": "b162bb96",
   "metadata": {},
   "outputs": [],
   "source": [
    "#df = pd.DataFrame({'Gender':y})"
   ]
  },
  {
   "cell_type": "code",
   "execution_count": 4,
   "id": "6df8cd10",
   "metadata": {},
   "outputs": [],
   "source": [
    "#df_dummies = pd.get_dummies(y)"
   ]
  },
  {
   "cell_type": "code",
   "execution_count": 5,
   "id": "e02d979a",
   "metadata": {},
   "outputs": [],
   "source": [
    "#df_dummies.head()"
   ]
  },
  {
   "cell_type": "code",
   "execution_count": 6,
   "id": "e46805dc",
   "metadata": {},
   "outputs": [],
   "source": [
    "#y = df_dummies.values"
   ]
  },
  {
   "cell_type": "code",
   "execution_count": 7,
   "id": "9ad90808",
   "metadata": {},
   "outputs": [
    {
     "name": "stdout",
     "output_type": "stream",
     "text": [
      "(136, 40)\n",
      "(136,)\n"
     ]
    }
   ],
   "source": [
    "print(x.shape)\n",
    "print(y.shape)"
   ]
  },
  {
   "cell_type": "code",
   "execution_count": 8,
   "id": "ddbc51c7",
   "metadata": {},
   "outputs": [],
   "source": [
    "# spliting d data into training and testing dataset\n",
    "\n",
    "\n",
    "x_train, x_test, y_train, y_test = train_test_split(x, y, test_size=0.2, random_state=101)"
   ]
  },
  {
   "cell_type": "code",
   "execution_count": 9,
   "id": "b154ceba",
   "metadata": {},
   "outputs": [],
   "source": [
    "output_size = 2\n",
    "hidden_layer_size = 200\n",
    "num_epochs = 100"
   ]
  },
  {
   "cell_type": "code",
   "execution_count": 10,
   "id": "52ffe9b7",
   "metadata": {},
   "outputs": [],
   "source": [
    "#setting an early stopping\n",
    "\n",
    "early_stopping = tf.keras.callbacks.EarlyStopping(patience=3)"
   ]
  },
  {
   "cell_type": "code",
   "execution_count": 11,
   "id": "402e6830",
   "metadata": {},
   "outputs": [
    {
     "name": "stderr",
     "output_type": "stream",
     "text": [
      "2022-09-23 20:51:34.279447: I tensorflow/core/platform/cpu_feature_guard.cc:151] This TensorFlow binary is optimized with oneAPI Deep Neural Network Library (oneDNN) to use the following CPU instructions in performance-critical operations:  SSE4.1 SSE4.2\n",
      "To enable them in other operations, rebuild TensorFlow with the appropriate compiler flags.\n",
      "2022-09-23 20:51:34.280883: I tensorflow/core/common_runtime/process_util.cc:146] Creating new thread pool with default inter op setting: 2. Tune using inter_op_parallelism_threads for best performance.\n"
     ]
    }
   ],
   "source": [
    "model = tf.keras.Sequential([\n",
    "    tf.keras.layers.Dense(hidden_layer_size, activation='relu'),\n",
    "    tf.keras.layers.Dense(hidden_layer_size, activation='relu'),\n",
    "    tf.keras.layers.Dense(hidden_layer_size, activation='relu'),\n",
    "    tf.keras.layers.Dense(hidden_layer_size, activation='relu'),\n",
    "    tf.keras.layers.Dense(hidden_layer_size, activation='relu'),\n",
    "    tf.keras.layers.Dense(output_size, activation='softmax'),\n",
    "])"
   ]
  },
  {
   "cell_type": "code",
   "execution_count": 12,
   "id": "25b659d6",
   "metadata": {},
   "outputs": [],
   "source": [
    "model.compile(optimizer='adam', loss='sparse_categorical_crossentropy', metrics='accuracy')"
   ]
  },
  {
   "cell_type": "code",
   "execution_count": 13,
   "id": "ffa16675",
   "metadata": {},
   "outputs": [
    {
     "name": "stdout",
     "output_type": "stream",
     "text": [
      "Epoch 1/100\n",
      "4/4 - 1s - loss: 2.3442 - accuracy: 0.5648 - val_loss: 0.7101 - val_accuracy: 0.5357 - 1s/epoch - 291ms/step\n",
      "Epoch 2/100\n",
      "4/4 - 0s - loss: 0.8000 - accuracy: 0.7037 - val_loss: 1.1306 - val_accuracy: 0.6071 - 135ms/epoch - 34ms/step\n",
      "Epoch 3/100\n",
      "4/4 - 0s - loss: 0.6524 - accuracy: 0.7222 - val_loss: 0.2815 - val_accuracy: 0.8929 - 125ms/epoch - 31ms/step\n",
      "Epoch 4/100\n",
      "4/4 - 0s - loss: 0.4070 - accuracy: 0.8333 - val_loss: 0.2694 - val_accuracy: 0.9286 - 124ms/epoch - 31ms/step\n",
      "Epoch 5/100\n",
      "4/4 - 0s - loss: 0.2710 - accuracy: 0.9444 - val_loss: 0.1997 - val_accuracy: 0.9643 - 120ms/epoch - 30ms/step\n",
      "Epoch 6/100\n",
      "4/4 - 0s - loss: 0.2016 - accuracy: 0.9352 - val_loss: 0.1748 - val_accuracy: 0.9643 - 105ms/epoch - 26ms/step\n",
      "Epoch 7/100\n",
      "4/4 - 0s - loss: 0.0829 - accuracy: 0.9722 - val_loss: 0.1598 - val_accuracy: 0.8929 - 108ms/epoch - 27ms/step\n",
      "Epoch 8/100\n",
      "4/4 - 0s - loss: 0.1543 - accuracy: 0.9630 - val_loss: 0.0887 - val_accuracy: 0.9643 - 120ms/epoch - 30ms/step\n",
      "Epoch 9/100\n",
      "4/4 - 0s - loss: 0.1080 - accuracy: 0.9630 - val_loss: 0.0512 - val_accuracy: 1.0000 - 131ms/epoch - 33ms/step\n",
      "Epoch 10/100\n",
      "4/4 - 0s - loss: 0.0741 - accuracy: 0.9907 - val_loss: 0.0552 - val_accuracy: 0.9643 - 112ms/epoch - 28ms/step\n",
      "Epoch 11/100\n",
      "4/4 - 0s - loss: 0.0631 - accuracy: 0.9815 - val_loss: 0.0630 - val_accuracy: 1.0000 - 117ms/epoch - 29ms/step\n",
      "Epoch 12/100\n",
      "4/4 - 0s - loss: 0.0634 - accuracy: 0.9630 - val_loss: 0.0453 - val_accuracy: 0.9643 - 98ms/epoch - 24ms/step\n",
      "Epoch 13/100\n",
      "4/4 - 0s - loss: 0.0392 - accuracy: 0.9815 - val_loss: 0.0281 - val_accuracy: 1.0000 - 99ms/epoch - 25ms/step\n",
      "Epoch 14/100\n",
      "4/4 - 0s - loss: 0.0485 - accuracy: 0.9815 - val_loss: 0.0373 - val_accuracy: 0.9643 - 124ms/epoch - 31ms/step\n",
      "Epoch 15/100\n",
      "4/4 - 0s - loss: 0.0498 - accuracy: 0.9907 - val_loss: 0.0526 - val_accuracy: 1.0000 - 135ms/epoch - 34ms/step\n",
      "Epoch 16/100\n",
      "4/4 - 0s - loss: 0.0679 - accuracy: 0.9630 - val_loss: 0.0233 - val_accuracy: 1.0000 - 133ms/epoch - 33ms/step\n",
      "Epoch 17/100\n",
      "4/4 - 0s - loss: 0.0212 - accuracy: 1.0000 - val_loss: 0.0640 - val_accuracy: 0.9643 - 125ms/epoch - 31ms/step\n",
      "Epoch 18/100\n",
      "4/4 - 0s - loss: 0.0414 - accuracy: 0.9815 - val_loss: 0.0330 - val_accuracy: 1.0000 - 130ms/epoch - 33ms/step\n",
      "Epoch 19/100\n",
      "4/4 - 0s - loss: 0.0400 - accuracy: 0.9907 - val_loss: 0.0435 - val_accuracy: 0.9643 - 127ms/epoch - 32ms/step\n"
     ]
    },
    {
     "data": {
      "text/plain": [
       "<keras.callbacks.History at 0x7f819be40a30>"
      ]
     },
     "execution_count": 13,
     "metadata": {},
     "output_type": "execute_result"
    }
   ],
   "source": [
    "model.fit(x_train, y_train, epochs=num_epochs, validation_data=(x_test, y_test), callbacks=[early_stopping], verbose=2 )"
   ]
  },
  {
   "cell_type": "code",
   "execution_count": 14,
   "id": "cb73f6ed",
   "metadata": {},
   "outputs": [
    {
     "name": "stdout",
     "output_type": "stream",
     "text": [
      "1/1 [==============================] - 0s 30ms/step - loss: 0.0435 - accuracy: 0.9643\n"
     ]
    }
   ],
   "source": [
    "test_loss, test_accuracy = model.evaluate(x_test, y_test)"
   ]
  },
  {
   "cell_type": "code",
   "execution_count": 15,
   "id": "8976fb9d",
   "metadata": {},
   "outputs": [
    {
     "data": {
      "text/plain": [
       "0.9642857313156128"
      ]
     },
     "execution_count": 15,
     "metadata": {},
     "output_type": "execute_result"
    }
   ],
   "source": [
    "test_accuracy"
   ]
  },
  {
   "cell_type": "code",
   "execution_count": 16,
   "id": "21a814df",
   "metadata": {},
   "outputs": [
    {
     "data": {
      "text/plain": [
       "0.043543074280023575"
      ]
     },
     "execution_count": 16,
     "metadata": {},
     "output_type": "execute_result"
    }
   ],
   "source": [
    "test_loss"
   ]
  },
  {
   "cell_type": "code",
   "execution_count": 17,
   "id": "335f3e01",
   "metadata": {},
   "outputs": [
    {
     "data": {
      "text/plain": [
       "1.0"
      ]
     },
     "execution_count": 17,
     "metadata": {},
     "output_type": "execute_result"
    }
   ],
   "source": [
    "y_test[0]"
   ]
  },
  {
   "cell_type": "code",
   "execution_count": 18,
   "id": "be50e8f1",
   "metadata": {},
   "outputs": [
    {
     "data": {
      "text/plain": [
       "(40,)"
      ]
     },
     "execution_count": 18,
     "metadata": {},
     "output_type": "execute_result"
    }
   ],
   "source": [
    "x_test[1].shape"
   ]
  },
  {
   "cell_type": "code",
   "execution_count": 19,
   "id": "1da0962c",
   "metadata": {},
   "outputs": [
    {
     "data": {
      "text/plain": [
       "array([[0.01176356, 0.98823637]], dtype=float32)"
      ]
     },
     "execution_count": 19,
     "metadata": {},
     "output_type": "execute_result"
    }
   ],
   "source": [
    "# prediction of x_test\n",
    "\n",
    "a = model.predict(x_test[0].reshape(1, -1))\n",
    "a"
   ]
  },
  {
   "cell_type": "code",
   "execution_count": 20,
   "id": "7076f899",
   "metadata": {},
   "outputs": [
    {
     "name": "stdout",
     "output_type": "stream",
     "text": [
      "male\n"
     ]
    }
   ],
   "source": [
    "if a[0][0] > a[0][1]:\n",
    "    print('female')\n",
    "else:\n",
    "    print('male')"
   ]
  },
  {
   "cell_type": "markdown",
   "id": "daf49657",
   "metadata": {},
   "source": [
    "## reading  data from from recorded voice for prediction"
   ]
  },
  {
   "cell_type": "code",
   "execution_count": 21,
   "id": "df0d6476",
   "metadata": {},
   "outputs": [
    {
     "data": {
      "text/plain": [
       "(40,)"
      ]
     },
     "execution_count": 21,
     "metadata": {},
     "output_type": "execute_result"
    }
   ],
   "source": [
    "x_read= np.loadtxt('mercy.csv', delimiter=',')\n",
    "x_read.shape"
   ]
  },
  {
   "cell_type": "code",
   "execution_count": 22,
   "id": "a1a0e3d5",
   "metadata": {},
   "outputs": [],
   "source": [
    "shape = x_read.reshape(1, -1)"
   ]
  },
  {
   "cell_type": "code",
   "execution_count": 23,
   "id": "f8dc39d1",
   "metadata": {},
   "outputs": [
    {
     "data": {
      "text/plain": [
       "(1, 40)"
      ]
     },
     "execution_count": 23,
     "metadata": {},
     "output_type": "execute_result"
    }
   ],
   "source": [
    "shape.shape"
   ]
  },
  {
   "cell_type": "code",
   "execution_count": 24,
   "id": "22255f59",
   "metadata": {},
   "outputs": [
    {
     "data": {
      "text/plain": [
       "array([[0.04493224, 0.9550677 ]], dtype=float32)"
      ]
     },
     "execution_count": 24,
     "metadata": {},
     "output_type": "execute_result"
    }
   ],
   "source": [
    "# prediction of x_test\n",
    "\n",
    "x = model.predict(shape)\n",
    "x"
   ]
  },
  {
   "cell_type": "code",
   "execution_count": 25,
   "id": "3696a355",
   "metadata": {},
   "outputs": [
    {
     "name": "stdout",
     "output_type": "stream",
     "text": [
      "male\n"
     ]
    }
   ],
   "source": [
    "if x[0][0] > x[0][1]:\n",
    "    print('female')\n",
    "else:\n",
    "    print('male')"
   ]
  },
  {
   "cell_type": "code",
   "execution_count": null,
   "id": "56c86532",
   "metadata": {},
   "outputs": [],
   "source": []
  },
  {
   "cell_type": "code",
   "execution_count": null,
   "id": "6de0fb21",
   "metadata": {},
   "outputs": [],
   "source": []
  },
  {
   "cell_type": "code",
   "execution_count": null,
   "id": "92565fdc",
   "metadata": {},
   "outputs": [],
   "source": []
  },
  {
   "cell_type": "code",
   "execution_count": null,
   "id": "c6250cb7",
   "metadata": {},
   "outputs": [],
   "source": []
  },
  {
   "cell_type": "code",
   "execution_count": null,
   "id": "40e973e0",
   "metadata": {},
   "outputs": [],
   "source": []
  },
  {
   "cell_type": "code",
   "execution_count": null,
   "id": "329a5d31",
   "metadata": {},
   "outputs": [],
   "source": []
  },
  {
   "cell_type": "code",
   "execution_count": null,
   "id": "e6c0086a",
   "metadata": {},
   "outputs": [],
   "source": []
  },
  {
   "cell_type": "code",
   "execution_count": null,
   "id": "ebca3ef7",
   "metadata": {},
   "outputs": [],
   "source": []
  },
  {
   "cell_type": "code",
   "execution_count": null,
   "id": "9c774feb",
   "metadata": {},
   "outputs": [],
   "source": []
  },
  {
   "cell_type": "code",
   "execution_count": null,
   "id": "e399669e",
   "metadata": {},
   "outputs": [],
   "source": []
  },
  {
   "cell_type": "code",
   "execution_count": null,
   "id": "a928d47d",
   "metadata": {},
   "outputs": [],
   "source": []
  },
  {
   "cell_type": "code",
   "execution_count": null,
   "id": "5ffc657a",
   "metadata": {},
   "outputs": [],
   "source": []
  },
  {
   "cell_type": "code",
   "execution_count": null,
   "id": "1492bad7",
   "metadata": {},
   "outputs": [],
   "source": []
  },
  {
   "cell_type": "code",
   "execution_count": null,
   "id": "2734ad01",
   "metadata": {},
   "outputs": [],
   "source": []
  },
  {
   "cell_type": "code",
   "execution_count": null,
   "id": "35344750",
   "metadata": {},
   "outputs": [],
   "source": []
  },
  {
   "cell_type": "code",
   "execution_count": null,
   "id": "8c6ec505",
   "metadata": {},
   "outputs": [],
   "source": []
  },
  {
   "cell_type": "code",
   "execution_count": null,
   "id": "63368149",
   "metadata": {},
   "outputs": [],
   "source": []
  },
  {
   "cell_type": "code",
   "execution_count": null,
   "id": "89d230f3",
   "metadata": {},
   "outputs": [],
   "source": []
  },
  {
   "cell_type": "code",
   "execution_count": null,
   "id": "00adf950",
   "metadata": {},
   "outputs": [],
   "source": []
  },
  {
   "cell_type": "code",
   "execution_count": null,
   "id": "8fcd814d",
   "metadata": {},
   "outputs": [],
   "source": []
  },
  {
   "cell_type": "code",
   "execution_count": null,
   "id": "ab20c8b8",
   "metadata": {},
   "outputs": [],
   "source": []
  },
  {
   "cell_type": "code",
   "execution_count": null,
   "id": "6e5b6525",
   "metadata": {},
   "outputs": [],
   "source": []
  },
  {
   "cell_type": "code",
   "execution_count": null,
   "id": "daced687",
   "metadata": {},
   "outputs": [],
   "source": []
  },
  {
   "cell_type": "code",
   "execution_count": null,
   "id": "1cc32e52",
   "metadata": {},
   "outputs": [],
   "source": []
  },
  {
   "cell_type": "code",
   "execution_count": null,
   "id": "364aa577",
   "metadata": {},
   "outputs": [],
   "source": []
  },
  {
   "cell_type": "code",
   "execution_count": null,
   "id": "fca015a8",
   "metadata": {},
   "outputs": [],
   "source": []
  },
  {
   "cell_type": "code",
   "execution_count": null,
   "id": "e89d3427",
   "metadata": {},
   "outputs": [],
   "source": []
  },
  {
   "cell_type": "code",
   "execution_count": null,
   "id": "3e898e93",
   "metadata": {},
   "outputs": [],
   "source": []
  },
  {
   "cell_type": "code",
   "execution_count": null,
   "id": "67a36a89",
   "metadata": {},
   "outputs": [],
   "source": []
  },
  {
   "cell_type": "code",
   "execution_count": null,
   "id": "1ad18068",
   "metadata": {},
   "outputs": [],
   "source": []
  },
  {
   "cell_type": "code",
   "execution_count": null,
   "id": "b76c0bbf",
   "metadata": {},
   "outputs": [],
   "source": []
  },
  {
   "cell_type": "code",
   "execution_count": null,
   "id": "4679709c",
   "metadata": {},
   "outputs": [],
   "source": []
  },
  {
   "cell_type": "code",
   "execution_count": null,
   "id": "15e204a0",
   "metadata": {},
   "outputs": [],
   "source": []
  },
  {
   "cell_type": "code",
   "execution_count": null,
   "id": "97999156",
   "metadata": {},
   "outputs": [],
   "source": []
  }
 ],
 "metadata": {
  "kernelspec": {
   "display_name": "Python 3 (ipykernel)",
   "language": "python",
   "name": "python3"
  },
  "language_info": {
   "codemirror_mode": {
    "name": "ipython",
    "version": 3
   },
   "file_extension": ".py",
   "mimetype": "text/x-python",
   "name": "python",
   "nbconvert_exporter": "python",
   "pygments_lexer": "ipython3",
   "version": "3.10.4"
  }
 },
 "nbformat": 4,
 "nbformat_minor": 5
}
